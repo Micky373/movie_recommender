{
 "cells": [
  {
   "cell_type": "markdown",
   "id": "897ec6f5",
   "metadata": {},
   "source": [
    "# Importing useful libraries"
   ]
  },
  {
   "cell_type": "code",
   "execution_count": 11,
   "id": "c254df95",
   "metadata": {},
   "outputs": [],
   "source": [
    "# For http request\n",
    "import requests\n",
    "from io import BytesIO\n",
    "\n",
    "import difflib # For finding similar string matches\n",
    "\n",
    "import pickle # For loading the models\n",
    "\n",
    "# For image visualization\n",
    "from PIL import Image\n",
    "import matplotlib.pyplot as plt"
   ]
  },
  {
   "cell_type": "markdown",
   "id": "e79ed250",
   "metadata": {},
   "source": [
    "# Loading the models"
   ]
  },
  {
   "cell_type": "code",
   "execution_count": 12,
   "id": "c086538d",
   "metadata": {},
   "outputs": [],
   "source": [
    "# Let us load the movies table and the similarity vectors\n",
    "\n",
    "with open('../models/movie_list.pkl','rb') as f:\n",
    "    movies_df = pickle.load(f)\n",
    "\n",
    "with open('../models/similairty.pkl','rb') as f:\n",
    "    similarity = pickle.load(f)"
   ]
  },
  {
   "cell_type": "code",
   "execution_count": 13,
   "id": "d8fe1792",
   "metadata": {},
   "outputs": [
    {
     "data": {
      "text/html": [
       "<div>\n",
       "<style scoped>\n",
       "    .dataframe tbody tr th:only-of-type {\n",
       "        vertical-align: middle;\n",
       "    }\n",
       "\n",
       "    .dataframe tbody tr th {\n",
       "        vertical-align: top;\n",
       "    }\n",
       "\n",
       "    .dataframe thead th {\n",
       "        text-align: right;\n",
       "    }\n",
       "</style>\n",
       "<table border=\"1\" class=\"dataframe\">\n",
       "  <thead>\n",
       "    <tr style=\"text-align: right;\">\n",
       "      <th></th>\n",
       "      <th>movie_id</th>\n",
       "      <th>title</th>\n",
       "      <th>tags</th>\n",
       "    </tr>\n",
       "  </thead>\n",
       "  <tbody>\n",
       "    <tr>\n",
       "      <th>0</th>\n",
       "      <td>19995</td>\n",
       "      <td>Avatar</td>\n",
       "      <td>In the 22nd century, a paraplegic Marine is di...</td>\n",
       "    </tr>\n",
       "    <tr>\n",
       "      <th>1</th>\n",
       "      <td>285</td>\n",
       "      <td>Pirates of the Caribbean: At World's End</td>\n",
       "      <td>Captain Barbossa, long believed to be dead, ha...</td>\n",
       "    </tr>\n",
       "    <tr>\n",
       "      <th>2</th>\n",
       "      <td>206647</td>\n",
       "      <td>Spectre</td>\n",
       "      <td>A cryptic message from Bond’s past sends him o...</td>\n",
       "    </tr>\n",
       "    <tr>\n",
       "      <th>3</th>\n",
       "      <td>49026</td>\n",
       "      <td>The Dark Knight Rises</td>\n",
       "      <td>Following the death of District Attorney Harve...</td>\n",
       "    </tr>\n",
       "    <tr>\n",
       "      <th>4</th>\n",
       "      <td>49529</td>\n",
       "      <td>John Carter</td>\n",
       "      <td>John Carter is a war-weary, former military ca...</td>\n",
       "    </tr>\n",
       "    <tr>\n",
       "      <th>...</th>\n",
       "      <td>...</td>\n",
       "      <td>...</td>\n",
       "      <td>...</td>\n",
       "    </tr>\n",
       "    <tr>\n",
       "      <th>4804</th>\n",
       "      <td>9367</td>\n",
       "      <td>El Mariachi</td>\n",
       "      <td>El Mariachi just wants to play his guitar and ...</td>\n",
       "    </tr>\n",
       "    <tr>\n",
       "      <th>4805</th>\n",
       "      <td>72766</td>\n",
       "      <td>Newlyweds</td>\n",
       "      <td>A newlywed couple's honeymoon is upended by th...</td>\n",
       "    </tr>\n",
       "    <tr>\n",
       "      <th>4806</th>\n",
       "      <td>231617</td>\n",
       "      <td>Signed, Sealed, Delivered</td>\n",
       "      <td>\"Signed, Sealed, Delivered\" introduces a dedic...</td>\n",
       "    </tr>\n",
       "    <tr>\n",
       "      <th>4807</th>\n",
       "      <td>126186</td>\n",
       "      <td>Shanghai Calling</td>\n",
       "      <td>When ambitious New York attorney Sam is sent t...</td>\n",
       "    </tr>\n",
       "    <tr>\n",
       "      <th>4808</th>\n",
       "      <td>25975</td>\n",
       "      <td>My Date with Drew</td>\n",
       "      <td>Ever since the second grade when he first saw ...</td>\n",
       "    </tr>\n",
       "  </tbody>\n",
       "</table>\n",
       "<p>4805 rows × 3 columns</p>\n",
       "</div>"
      ],
      "text/plain": [
       "      movie_id                                     title  \\\n",
       "0        19995                                    Avatar   \n",
       "1          285  Pirates of the Caribbean: At World's End   \n",
       "2       206647                                   Spectre   \n",
       "3        49026                     The Dark Knight Rises   \n",
       "4        49529                               John Carter   \n",
       "...        ...                                       ...   \n",
       "4804      9367                               El Mariachi   \n",
       "4805     72766                                 Newlyweds   \n",
       "4806    231617                 Signed, Sealed, Delivered   \n",
       "4807    126186                          Shanghai Calling   \n",
       "4808     25975                         My Date with Drew   \n",
       "\n",
       "                                                   tags  \n",
       "0     In the 22nd century, a paraplegic Marine is di...  \n",
       "1     Captain Barbossa, long believed to be dead, ha...  \n",
       "2     A cryptic message from Bond’s past sends him o...  \n",
       "3     Following the death of District Attorney Harve...  \n",
       "4     John Carter is a war-weary, former military ca...  \n",
       "...                                                 ...  \n",
       "4804  El Mariachi just wants to play his guitar and ...  \n",
       "4805  A newlywed couple's honeymoon is upended by th...  \n",
       "4806  \"Signed, Sealed, Delivered\" introduces a dedic...  \n",
       "4807  When ambitious New York attorney Sam is sent t...  \n",
       "4808  Ever since the second grade when he first saw ...  \n",
       "\n",
       "[4805 rows x 3 columns]"
      ]
     },
     "execution_count": 13,
     "metadata": {},
     "output_type": "execute_result"
    }
   ],
   "source": [
    "# Let us see the loaded movies dataset\n",
    "\n",
    "movies_df"
   ]
  },
  {
   "cell_type": "code",
   "execution_count": 14,
   "id": "3986702c",
   "metadata": {},
   "outputs": [
    {
     "data": {
      "text/plain": [
       "(4805, 4805)"
      ]
     },
     "execution_count": 14,
     "metadata": {},
     "output_type": "execute_result"
    }
   ],
   "source": [
    "# Let us see the loaded similarity \n",
    "\n",
    "similarity.shape"
   ]
  },
  {
   "cell_type": "code",
   "execution_count": 15,
   "id": "5c5cac05",
   "metadata": {},
   "outputs": [],
   "source": [
    "# A function from the last notebook about our API request\n",
    "\n",
    "def fetch_poster(movie_id):\n",
    "    \n",
    "    url = \"https://api.themoviedb.org/3/movie/{}?api_key=8265bd1679663a7ea12ac168da84d2e8&language=en-US\".\\\n",
    "                            format(movie_id)\n",
    "    try:\n",
    "        response = requests.get(url)\n",
    "        response = response.json()\n",
    "        image_api = \"https://image.tmdb.org/t/p/w500/\"\n",
    "        poster_path = response['poster_path']\n",
    "    except:\n",
    "        return \"The movie you passed doesn't exist\"\n",
    "    \n",
    "    return image_api + poster_path"
   ]
  },
  {
   "cell_type": "code",
   "execution_count": 16,
   "id": "bda832e5",
   "metadata": {},
   "outputs": [
    {
     "data": {
      "text/plain": [
       "['Avatar',\n",
       " \"Pirates of the Caribbean: At World's End\",\n",
       " 'Spectre',\n",
       " 'The Dark Knight Rises',\n",
       " 'John Carter',\n",
       " 'Spider-Man 3',\n",
       " 'Tangled',\n",
       " 'Avengers: Age of Ultron',\n",
       " 'Harry Potter and the Half-Blood Prince',\n",
       " 'Batman v Superman: Dawn of Justice']"
      ]
     },
     "execution_count": 16,
     "metadata": {},
     "output_type": "execute_result"
    }
   ],
   "source": [
    "# Let us create a movie titles array\n",
    "\n",
    "movie_titles = list(movies_df['title'].values)\n",
    "movie_titles[:10]"
   ]
  },
  {
   "cell_type": "code",
   "execution_count": 17,
   "id": "69f1af71",
   "metadata": {},
   "outputs": [],
   "source": [
    "# Let us create a function that returns movie names and their poster\n",
    "\n",
    "def recommend(movie):\n",
    "    \n",
    "    try:\n",
    "        \n",
    "        closest_match_to_the_input = difflib.get_close_matches(movie,\n",
    "                                                       movie_titles)\n",
    "        movie = closest_match_to_the_input[0]\n",
    "        index_ = movies_df[movies_df['title'] == movie].index[0]\n",
    "    \n",
    "        similaity_vec = list(enumerate(similarity[index_]))\n",
    "        similarity_vec = sorted(similaity_vec,reverse=True,key = lambda x:x[1])\n",
    "\n",
    "        recommended_movies = []\n",
    "        poster_pathes = []\n",
    "        \n",
    "        for i in range(1,11):\n",
    "            title = movies_df.loc[similarity_vec[i][0]]['title']\n",
    "            movie_id = movies_df.loc[similarity_vec[i][0]]['movie_id']\n",
    "            recommended_movies.append(title)\n",
    "            poster_pathes.append(fetch_poster(movie_id))\n",
    "            \n",
    "    except:\n",
    "        recommended_movies = []\n",
    "        poster_pathes = []    \n",
    "    \n",
    "    \n",
    "    return recommended_movies,poster_pathes"
   ]
  },
  {
   "cell_type": "code",
   "execution_count": 18,
   "id": "486ad5b5",
   "metadata": {},
   "outputs": [],
   "source": [
    "# Let us get the movie names and their poster address\n",
    "\n",
    "movies,posters = recommend('spider man')"
   ]
  },
  {
   "cell_type": "code",
   "execution_count": 19,
   "id": "dd8f7a98",
   "metadata": {},
   "outputs": [
    {
     "ename": "NameError",
     "evalue": "name 'poster_pathes' is not defined",
     "output_type": "error",
     "traceback": [
      "\u001b[0;31m---------------------------------------------------------------------------\u001b[0m",
      "\u001b[0;31mNameError\u001b[0m                                 Traceback (most recent call last)",
      "Input \u001b[0;32mIn [19]\u001b[0m, in \u001b[0;36m<cell line: 3>\u001b[0;34m()\u001b[0m\n\u001b[1;32m      1\u001b[0m \u001b[38;5;66;03m# Now that we got the poster addresses let us plot them\u001b[39;00m\n\u001b[0;32m----> 3\u001b[0m \u001b[38;5;28;01mif\u001b[39;00m \u001b[38;5;28mlen\u001b[39m(\u001b[43mposter_pathes\u001b[49m) \u001b[38;5;241m>\u001b[39m \u001b[38;5;241m0\u001b[39m:\n\u001b[1;32m      4\u001b[0m     fig \u001b[38;5;241m=\u001b[39m plt\u001b[38;5;241m.\u001b[39mfigure(figsize\u001b[38;5;241m=\u001b[39m(\u001b[38;5;241m10\u001b[39m,\u001b[38;5;241m10\u001b[39m))\n\u001b[1;32m      5\u001b[0m     \u001b[38;5;28;01mfor\u001b[39;00m i \u001b[38;5;129;01min\u001b[39;00m \u001b[38;5;28mrange\u001b[39m(\u001b[38;5;28mlen\u001b[39m(posters)):\n",
      "\u001b[0;31mNameError\u001b[0m: name 'poster_pathes' is not defined"
     ]
    }
   ],
   "source": [
    "# Now that we got the poster addresses let us plot them\n",
    "\n",
    "if len(poster_pathes) > 0:\n",
    "    fig = plt.figure(figsize=(10,10))\n",
    "    for i in range(len(posters)):\n",
    "        fig.add_subplot(5,5,i+1)\n",
    "        response = requests.get(posters[i])\n",
    "        image = Image.open(BytesIO(response.content))\n",
    "        plt.imshow(image)\n",
    "        plt.axis('off')\n",
    "    plt.show()\n",
    "else:\n",
    "    print('Nothing to recommend in the dataset')"
   ]
  }
 ],
 "metadata": {
  "kernelspec": {
   "display_name": "Python 3 (ipykernel)",
   "language": "python",
   "name": "python3"
  },
  "language_info": {
   "codemirror_mode": {
    "name": "ipython",
    "version": 3
   },
   "file_extension": ".py",
   "mimetype": "text/x-python",
   "name": "python",
   "nbconvert_exporter": "python",
   "pygments_lexer": "ipython3",
   "version": "3.9.12"
  }
 },
 "nbformat": 4,
 "nbformat_minor": 5
}
